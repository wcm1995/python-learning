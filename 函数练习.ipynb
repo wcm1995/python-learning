{
 "cells": [
  {
   "cell_type": "markdown",
   "metadata": {},
   "source": [
    " 1. 调用函数"
   ]
  },
  {
   "cell_type": "code",
   "execution_count": 1,
   "metadata": {},
   "outputs": [
    {
     "data": {
      "text/plain": [
       "3"
      ]
     },
     "execution_count": 1,
     "metadata": {},
     "output_type": "execute_result"
    }
   ],
   "source": [
    "max(1,2,3)"
   ]
  },
  {
   "cell_type": "code",
   "execution_count": 2,
   "metadata": {},
   "outputs": [
    {
     "data": {
      "text/plain": [
       "12.34"
      ]
     },
     "execution_count": 2,
     "metadata": {},
     "output_type": "execute_result"
    }
   ],
   "source": [
    "abs(12.34)"
   ]
  },
  {
   "cell_type": "code",
   "execution_count": 3,
   "metadata": {},
   "outputs": [
    {
     "data": {
      "text/plain": [
       "True"
      ]
     },
     "execution_count": 3,
     "metadata": {},
     "output_type": "execute_result"
    }
   ],
   "source": [
    "bool(1)"
   ]
  },
  {
   "cell_type": "code",
   "execution_count": 4,
   "metadata": {},
   "outputs": [
    {
     "data": {
      "text/plain": [
       "12"
      ]
     },
     "execution_count": 4,
     "metadata": {},
     "output_type": "execute_result"
    }
   ],
   "source": [
    "int(12.34)"
   ]
  },
  {
   "cell_type": "markdown",
   "metadata": {},
   "source": [
    "转换一个整数对象为十六进制的字符串表示"
   ]
  },
  {
   "cell_type": "code",
   "execution_count": 6,
   "metadata": {},
   "outputs": [
    {
     "name": "stdout",
     "output_type": "stream",
     "text": [
      "0x14\n"
     ]
    }
   ],
   "source": [
    "print(hex(20))"
   ]
  },
  {
   "cell_type": "markdown",
   "metadata": {},
   "source": [
    "2.定义函数"
   ]
  },
  {
   "cell_type": "code",
   "execution_count": 13,
   "metadata": {},
   "outputs": [
    {
     "name": "stdout",
     "output_type": "stream",
     "text": [
      "1\n"
     ]
    }
   ],
   "source": [
    "def my_abs(x):\n",
    "        if x>=0:\n",
    "            return x\n",
    "        else:\n",
    "            return -x\n",
    "print(my_abs(-1))"
   ]
  },
  {
   "cell_type": "code",
   "execution_count": 15,
   "metadata": {},
   "outputs": [
    {
     "name": "stdout",
     "output_type": "stream",
     "text": [
      "151.96152422706632 70.0\n"
     ]
    }
   ],
   "source": [
    "import math\n",
    "def move(x,y,step,angle=0):\n",
    "    nx=x+step*math.cos(angle)\n",
    "    ny=y-step*math.sin(angle)\n",
    "    return nx,ny\n",
    "x,y=move(100,100,60,math.pi/6)\n",
    "print(x,y)"
   ]
  },
  {
   "cell_type": "code",
   "execution_count": 16,
   "metadata": {},
   "outputs": [
    {
     "name": "stdout",
     "output_type": "stream",
     "text": [
      "(151.96152422706632, 70.0)\n"
     ]
    }
   ],
   "source": [
    "import math\n",
    "def move(x,y,step,angle=0):\n",
    "    nx=x+step*math.cos(angle)\n",
    "    ny=y-step*math.sin(angle)\n",
    "    return nx,ny\n",
    "r=move(100,100,60,math.pi/6)\n",
    "print(r)"
   ]
  },
  {
   "cell_type": "markdown",
   "metadata": {},
   "source": [
    "定义一个函数quadratic(a, b, c)，接收3个参数，返回一元二次方程：\n",
    "\n",
    "ax2 + bx + c = 0"
   ]
  },
  {
   "cell_type": "code",
   "execution_count": 28,
   "metadata": {},
   "outputs": [
    {
     "name": "stdout",
     "output_type": "stream",
     "text": [
      "(-0.5, -1.0)\n",
      "(1.0, 1.0)\n"
     ]
    }
   ],
   "source": [
    "import math\n",
    "def quadratic(a,b,c):\n",
    "    if not isinstance(a,(int,float)):\n",
    "        raise TypeError('a is not a number')\n",
    "    if not isinstance(b,(int,float)):\n",
    "        raise TypeError('b is not a number')\n",
    "    if not isinstance(c,(int,float)):\n",
    "        raise TypeError('c is not a number')\n",
    "    d=b*b-4*a*c\n",
    "    if a==0:\n",
    "        if b==0:\n",
    "            if c==0:\n",
    "                return '方程根为全体实数'\n",
    "            else:\n",
    "                return '方程无根'\n",
    "        else:\n",
    "            x1=-c/b\n",
    "            x2=x1\n",
    "            return x1,x2\n",
    "    else:\n",
    "        if d<0:\n",
    "            return '方程无根'\n",
    "        else:\n",
    "            x1=(-b+math.sqrt(d))/2/a\n",
    "            x2=(-b-math.sqrt(d))/2/a\n",
    "            return x1,x2\n",
    "print(quadratic(2,3,1))\n",
    "print(quadratic(1,-2,1))"
   ]
  },
  {
   "cell_type": "markdown",
   "metadata": {},
   "source": [
    "3.函数的参数"
   ]
  },
  {
   "cell_type": "markdown",
   "metadata": {},
   "source": [
    "计算x的n次方"
   ]
  },
  {
   "cell_type": "code",
   "execution_count": 31,
   "metadata": {},
   "outputs": [
    {
     "name": "stdout",
     "output_type": "stream",
     "text": [
      "25\n"
     ]
    }
   ],
   "source": [
    "def power(x,n):\n",
    "    s=1\n",
    "    while n>0:\n",
    "        n=n-1\n",
    "        s=s*x\n",
    "    return s\n",
    "print(power(5,2))\n",
    "        "
   ]
  },
  {
   "cell_type": "code",
   "execution_count": 32,
   "metadata": {},
   "outputs": [
    {
     "name": "stdout",
     "output_type": "stream",
     "text": [
      "125\n"
     ]
    }
   ],
   "source": [
    "def power(x,n=2):\n",
    "    s=1\n",
    "    while n>0:\n",
    "        n=n-1\n",
    "        s=s*x\n",
    "    return s\n",
    "print(power(5,3))"
   ]
  },
  {
   "cell_type": "markdown",
   "metadata": {},
   "source": [
    "可变参数"
   ]
  },
  {
   "cell_type": "markdown",
   "metadata": {},
   "source": [
    "给定一组数字a，b，c……，请计算a2 + b2 + c2 + ……\n",
    "定义一个list或tuple参数\n",
    "可以把a，b，c……作为一个list或tuple传进来，但是调用的时候，需要先组装出一个list或tuple："
   ]
  },
  {
   "cell_type": "code",
   "execution_count": 37,
   "metadata": {},
   "outputs": [
    {
     "name": "stdout",
     "output_type": "stream",
     "text": [
      "14\n",
      "30\n"
     ]
    }
   ],
   "source": [
    "def calc(numbers):\n",
    "    sum=0\n",
    "    for n in numbers:\n",
    "        sum=sum+n*n\n",
    "    return sum\n",
    "print(calc([1,2,3]))\n",
    "print(calc((1,2,3,4)))\n",
    "    "
   ]
  },
  {
   "cell_type": "markdown",
   "metadata": {},
   "source": [
    "定义可变参数,在参数前面加了一个*号。在函数内部，参数numbers接收到的是一个tuple"
   ]
  },
  {
   "cell_type": "code",
   "execution_count": 41,
   "metadata": {},
   "outputs": [
    {
     "name": "stdout",
     "output_type": "stream",
     "text": [
      "14\n"
     ]
    }
   ],
   "source": [
    "def calc(*nums):\n",
    "    sum=0\n",
    "    for n in nums:\n",
    "        sum=sum+n*n\n",
    "    return sum\n",
    "nums=[1,2,3]\n",
    "print(calc(*nums))\n"
   ]
  },
  {
   "cell_type": "code",
   "execution_count": null,
   "metadata": {},
   "outputs": [],
   "source": [
    "已经有一个list或者tuple，要调用一个可变参数"
   ]
  },
  {
   "cell_type": "code",
   "execution_count": 38,
   "metadata": {},
   "outputs": [
    {
     "name": "stdout",
     "output_type": "stream",
     "text": [
      "14\n",
      "30\n"
     ]
    }
   ],
   "source": [
    "def calc(*numbers):\n",
    "    sum=0\n",
    "    for n in numbers:\n",
    "        sum=sum+n*n\n",
    "    return sum\n",
    "print(calc(1,2,3))\n",
    "print(calc(1,2,3,4))"
   ]
  },
  {
   "cell_type": "markdown",
   "metadata": {},
   "source": [
    "4.递归函数"
   ]
  },
  {
   "cell_type": "code",
   "execution_count": 2,
   "metadata": {},
   "outputs": [
    {
     "name": "stdout",
     "output_type": "stream",
     "text": [
      "24\n"
     ]
    }
   ],
   "source": [
    "def fact(n):\n",
    "    if n==1:\n",
    "        return 1\n",
    "    return n*fact(n-1)\n",
    "print(fact(4))\n",
    "        "
   ]
  },
  {
   "cell_type": "code",
   "execution_count": null,
   "metadata": {},
   "outputs": [],
   "source": []
  }
 ],
 "metadata": {
  "kernelspec": {
   "display_name": "Python 3",
   "language": "python",
   "name": "python3"
  },
  "language_info": {
   "codemirror_mode": {
    "name": "ipython",
    "version": 3
   },
   "file_extension": ".py",
   "mimetype": "text/x-python",
   "name": "python",
   "nbconvert_exporter": "python",
   "pygments_lexer": "ipython3",
   "version": "3.6.4"
  },
  "toc": {
   "base_numbering": 1,
   "nav_menu": {},
   "number_sections": true,
   "sideBar": true,
   "skip_h1_title": false,
   "title_cell": "Table of Contents",
   "title_sidebar": "Contents",
   "toc_cell": false,
   "toc_position": {},
   "toc_section_display": true,
   "toc_window_display": false
  }
 },
 "nbformat": 4,
 "nbformat_minor": 2
}
