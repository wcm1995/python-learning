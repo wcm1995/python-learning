{
 "cells": [
  {
   "cell_type": "markdown",
   "metadata": {},
   "source": [
    "numpy（Numerical Python）提供了python对多维数组对象的支持：ndarray\n",
    "1.创建ndarray数组\n",
    "ndarray：N维数组对象（矩阵），所有元素必须是相同类型。 \n",
    "ndarray属性：ndim属性，表示维度个数；shape属性，表示各维度大小；dtype属性，表示数据类型。"
   ]
  },
  {
   "cell_type": "code",
   "execution_count": 27,
   "metadata": {},
   "outputs": [
    {
     "name": "stdout",
     "output_type": "stream",
     "text": [
      "使用列表生成一维数组\n",
      "[1 2 3 4 5 6]\n",
      "int32\n"
     ]
    }
   ],
   "source": [
    "import numpy\n",
    "\n",
    "print ('使用列表生成一维数组')\n",
    "data = [1,2,3,4,5,6]\n",
    "x = numpy.array(data)\n",
    "print (x) #打印数组\n",
    "print ((x).dtype) #打印数组元素的类型\n"
   ]
  },
  {
   "cell_type": "code",
   "execution_count": 29,
   "metadata": {},
   "outputs": [
    {
     "name": "stdout",
     "output_type": "stream",
     "text": [
      "使用列表生成二维数组\n",
      "[[1 2]\n",
      " [3 4]\n",
      " [5 6]]\n",
      "2\n",
      "(3, 2)\n"
     ]
    }
   ],
   "source": [
    "print ('使用列表生成二维数组')\n",
    "data = [[1,2],[3,4],[5,6]]\n",
    "x = numpy.array(data)\n",
    "print (x) #打印数组\n",
    "print ((x).ndim) #打印数组的维度\n",
    "print ((x).shape) #打印数组各个维度的长度。shape是一个元组"
   ]
  },
  {
   "cell_type": "markdown",
   "metadata": {},
   "source": [
    "使用zero/ones/empty创建数组:根据shape来创建"
   ]
  },
  {
   "cell_type": "code",
   "execution_count": 30,
   "metadata": {},
   "outputs": [
    {
     "name": "stdout",
     "output_type": "stream",
     "text": [
      "[0. 0. 0. 0. 0. 0.]\n"
     ]
    }
   ],
   "source": [
    "x=numpy.zeros(6)\n",
    "print (x)"
   ]
  },
  {
   "cell_type": "code",
   "execution_count": 31,
   "metadata": {},
   "outputs": [
    {
     "name": "stdout",
     "output_type": "stream",
     "text": [
      "[[0. 0. 0.]\n",
      " [0. 0. 0.]]\n"
     ]
    }
   ],
   "source": [
    "x=numpy.zeros((2,3))\n",
    "print (x)"
   ]
  },
  {
   "cell_type": "code",
   "execution_count": 32,
   "metadata": {},
   "outputs": [
    {
     "name": "stdout",
     "output_type": "stream",
     "text": [
      "[[1. 1. 1.]\n",
      " [1. 1. 1.]]\n"
     ]
    }
   ],
   "source": [
    "x=numpy.ones((2,3))\n",
    "print (x)"
   ]
  },
  {
   "cell_type": "code",
   "execution_count": 34,
   "metadata": {},
   "outputs": [
    {
     "name": "stdout",
     "output_type": "stream",
     "text": [
      "[[0.00000000e+000 0.00000000e+000 0.00000000e+000]\n",
      " [0.00000000e+000 0.00000000e+000 4.50587869e-321]\n",
      " [1.14799972e-311 0.00000000e+000 3.23815565e-319]]\n"
     ]
    }
   ],
   "source": [
    "x=numpy.empty((3,3))\n",
    "print (x)"
   ]
  },
  {
   "cell_type": "markdown",
   "metadata": {},
   "source": [
    "使用arrange生成连续元素"
   ]
  },
  {
   "cell_type": "code",
   "execution_count": 38,
   "metadata": {},
   "outputs": [
    {
     "name": "stdout",
     "output_type": "stream",
     "text": [
      "[0 1 2 3 4 5]\n"
     ]
    }
   ],
   "source": [
    "x=numpy.arange(6)\n",
    "print (x)"
   ]
  },
  {
   "cell_type": "code",
   "execution_count": 39,
   "metadata": {},
   "outputs": [
    {
     "name": "stdout",
     "output_type": "stream",
     "text": [
      "[0 2 4]\n"
     ]
    }
   ],
   "source": [
    "x=numpy.arange(0,6,2)\n",
    "print (x)"
   ]
  },
  {
   "cell_type": "markdown",
   "metadata": {},
   "source": [
    "2.指定ndarray数组元素的类型"
   ]
  },
  {
   "cell_type": "code",
   "execution_count": 41,
   "metadata": {},
   "outputs": [
    {
     "name": "stdout",
     "output_type": "stream",
     "text": [
      "[1 2 4]\n"
     ]
    }
   ],
   "source": [
    "x=numpy.array([1,2.3,4],dtype=numpy.int64)\n",
    "print (x)"
   ]
  },
  {
   "cell_type": "code",
   "execution_count": 42,
   "metadata": {},
   "outputs": [
    {
     "name": "stdout",
     "output_type": "stream",
     "text": [
      "[1.  2.3 4. ]\n"
     ]
    }
   ],
   "source": [
    "x=numpy.array([1,2.3,4],dtype=numpy.float64)\n",
    "print (x)"
   ]
  },
  {
   "cell_type": "markdown",
   "metadata": {},
   "source": [
    "使用astype复制数组，并转换类型"
   ]
  },
  {
   "cell_type": "code",
   "execution_count": 44,
   "metadata": {},
   "outputs": [
    {
     "name": "stdout",
     "output_type": "stream",
     "text": [
      "[1 2 4]\n"
     ]
    }
   ],
   "source": [
    "x=numpy.array([1,2.3,4],dtype=numpy.float64)\n",
    "y=x.astype(numpy.int32)\n",
    "print (y)"
   ]
  },
  {
   "cell_type": "code",
   "execution_count": 45,
   "metadata": {},
   "outputs": [
    {
     "name": "stdout",
     "output_type": "stream",
     "text": [
      "[1.  2.3 4. ]\n"
     ]
    }
   ],
   "source": [
    "print (x)"
   ]
  },
  {
   "cell_type": "code",
   "execution_count": 46,
   "metadata": {},
   "outputs": [
    {
     "name": "stdout",
     "output_type": "stream",
     "text": [
      "[1. 2. 4.]\n"
     ]
    }
   ],
   "source": [
    "z = y.astype(numpy.float64)\n",
    "print (z)"
   ]
  },
  {
   "cell_type": "markdown",
   "metadata": {},
   "source": [
    "将字符串元素转换为数值元素"
   ]
  },
  {
   "cell_type": "code",
   "execution_count": 49,
   "metadata": {},
   "outputs": [
    {
     "name": "stdout",
     "output_type": "stream",
     "text": [
      "[b'1' b'2' b'3']\n",
      "[1 2 3]\n"
     ]
    }
   ],
   "source": [
    "x = numpy.array(['1','2','3'],dtype = numpy.string_)\n",
    "y = x.astype(numpy.int32)\n",
    "print (x)\n",
    "print (y)"
   ]
  },
  {
   "cell_type": "markdown",
   "metadata": {},
   "source": [
    "使用其他数组的数据类型作为参数"
   ]
  },
  {
   "cell_type": "code",
   "execution_count": 53,
   "metadata": {},
   "outputs": [
    {
     "name": "stdout",
     "output_type": "stream",
     "text": [
      "[0 1 2]\n",
      "[0. 1. 2.]\n"
     ]
    }
   ],
   "source": [
    "x = numpy.array([ 1., 2.6,3. ],dtype = numpy.float32)\n",
    "y = numpy.arange(3,dtype=numpy.int32)\n",
    "print (y)\n",
    "print (y.astype(x.dtype))"
   ]
  },
  {
   "cell_type": "markdown",
   "metadata": {},
   "source": [
    "3.ndarray的矢量化计算"
   ]
  },
  {
   "cell_type": "code",
   "execution_count": 57,
   "metadata": {},
   "outputs": [
    {
     "name": "stdout",
     "output_type": "stream",
     "text": [
      "ndarray数组与标量/数组的运算\n",
      "[2 4 6]\n",
      "[False False  True]\n",
      "[5 7 9]\n",
      "[False False False]\n"
     ]
    }
   ],
   "source": [
    "print ('ndarray数组与标量/数组的运算')\n",
    "x=numpy.array([1,2,3])\n",
    "print (x*2)\n",
    "print (x>2)\n",
    "y=numpy.array([4,5,6])\n",
    "print (x+y)\n",
    "print (x>y)"
   ]
  },
  {
   "cell_type": "markdown",
   "metadata": {},
   "source": [
    "4.ndarray数组的基本索引和切片"
   ]
  },
  {
   "cell_type": "code",
   "execution_count": 61,
   "metadata": {},
   "outputs": [
    {
     "name": "stdout",
     "output_type": "stream",
     "text": [
      "ndarray的基本索引\n",
      "[1 2]\n",
      "2\n",
      "2\n"
     ]
    }
   ],
   "source": [
    "print ('ndarray的基本索引')\n",
    "x = numpy.array([[1,2],[3,4],[5,6]])\n",
    "print (x[0])\n",
    "print (x[0][1])    #普通python数组的索引\n",
    "print (x[0,1])     #ndarray数组的索引"
   ]
  },
  {
   "cell_type": "code",
   "execution_count": 62,
   "metadata": {},
   "outputs": [
    {
     "name": "stdout",
     "output_type": "stream",
     "text": [
      "[[[1 2]\n",
      "  [3 4]]\n",
      "\n",
      " [[5 6]\n",
      "  [7 8]]]\n"
     ]
    }
   ],
   "source": [
    "x = numpy.array([[[1, 2], [3,4]], [[5, 6], [7,8]]])\n",
    "print (x)"
   ]
  },
  {
   "cell_type": "code",
   "execution_count": 63,
   "metadata": {},
   "outputs": [
    {
     "name": "stdout",
     "output_type": "stream",
     "text": [
      "[[1 2]\n",
      " [3 4]]\n"
     ]
    }
   ],
   "source": [
    "print (x[0])"
   ]
  },
  {
   "cell_type": "code",
   "execution_count": 67,
   "metadata": {},
   "outputs": [
    {
     "name": "stdout",
     "output_type": "stream",
     "text": [
      "[[1 2]\n",
      " [3 4]]\n",
      "1\n"
     ]
    }
   ],
   "source": [
    "y=(x[0].copy())\n",
    "z=x[0]\n",
    "print (y)\n",
    "print (y[0,0])"
   ]
  },
  {
   "cell_type": "code",
   "execution_count": 69,
   "metadata": {},
   "outputs": [
    {
     "name": "stdout",
     "output_type": "stream",
     "text": [
      "[[0 2]\n",
      " [3 4]]\n",
      "[[-1  2]\n",
      " [ 3  4]]\n",
      "[[-1  2]\n",
      " [ 3  4]]\n"
     ]
    }
   ],
   "source": [
    "y[0,0] = 0 \n",
    "z[0,0] = -1\n",
    "print (y)\n",
    "print (x[0])\n",
    "print (z) "
   ]
  },
  {
   "cell_type": "markdown",
   "metadata": {},
   "source": [
    "ndarray的切片"
   ]
  },
  {
   "cell_type": "code",
   "execution_count": 70,
   "metadata": {},
   "outputs": [
    {
     "name": "stdout",
     "output_type": "stream",
     "text": [
      "[1 3]\n"
     ]
    }
   ],
   "source": [
    "x = numpy.array([1,2,3,4,5])\n",
    "print (x[0:4:2])"
   ]
  },
  {
   "cell_type": "code",
   "execution_count": 72,
   "metadata": {},
   "outputs": [
    {
     "name": "stdout",
     "output_type": "stream",
     "text": [
      "[[1 2]\n",
      " [3 4]]\n"
     ]
    }
   ],
   "source": [
    "x = numpy.array([[1,2],[3,4],[5,6]])\n",
    "print (x[:2])"
   ]
  },
  {
   "cell_type": "code",
   "execution_count": 73,
   "metadata": {},
   "outputs": [
    {
     "name": "stdout",
     "output_type": "stream",
     "text": [
      "[[1]\n",
      " [3]]\n"
     ]
    }
   ],
   "source": [
    "print (x[:2,:1])"
   ]
  },
  {
   "cell_type": "code",
   "execution_count": 74,
   "metadata": {},
   "outputs": [
    {
     "name": "stdout",
     "output_type": "stream",
     "text": [
      "[[0 2]\n",
      " [0 4]\n",
      " [5 6]]\n"
     ]
    }
   ],
   "source": [
    "x[:2,:1] = 0  # 用标量赋值\n",
    "print (x)"
   ]
  },
  {
   "cell_type": "code",
   "execution_count": 75,
   "metadata": {},
   "outputs": [
    {
     "name": "stdout",
     "output_type": "stream",
     "text": [
      "[[8 2]\n",
      " [6 4]\n",
      " [5 6]]\n"
     ]
    }
   ],
   "source": [
    "x[:2,:1] = [[8],[6]]  # 用数组赋值\n",
    "print (x)"
   ]
  },
  {
   "cell_type": "markdown",
   "metadata": {},
   "source": [
    "5.ndarray数组的布尔索引和花式索引"
   ]
  },
  {
   "cell_type": "code",
   "execution_count": 76,
   "metadata": {},
   "outputs": [
    {
     "name": "stdout",
     "output_type": "stream",
     "text": [
      "ndarray的布尔型索引\n",
      "[3 3 3]\n"
     ]
    }
   ],
   "source": [
    "print ('ndarray的布尔型索引')\n",
    "x = numpy.array([3,2,3,1,3,0])\n",
    "# 布尔型数组的长度必须跟被索引的轴长度一致\n",
    "y = numpy.array([True,False,True,False,True,False]) \n",
    "print (x[y])"
   ]
  },
  {
   "cell_type": "code",
   "execution_count": 77,
   "metadata": {},
   "outputs": [
    {
     "name": "stdout",
     "output_type": "stream",
     "text": [
      "[2 1 0]\n"
     ]
    }
   ],
   "source": [
    "print (x[y==False])"
   ]
  },
  {
   "cell_type": "code",
   "execution_count": 78,
   "metadata": {},
   "outputs": [
    {
     "name": "stdout",
     "output_type": "stream",
     "text": [
      "[ True False  True False  True False]\n"
     ]
    }
   ],
   "source": [
    "print (x>=3)"
   ]
  },
  {
   "cell_type": "code",
   "execution_count": 79,
   "metadata": {},
   "outputs": [
    {
     "name": "stdout",
     "output_type": "stream",
     "text": [
      "[2 1 0]\n"
     ]
    }
   ],
   "source": [
    "print (x[~(x>=3)])"
   ]
  },
  {
   "cell_type": "code",
   "execution_count": 80,
   "metadata": {},
   "outputs": [
    {
     "name": "stdout",
     "output_type": "stream",
     "text": [
      "[False  True False  True False False]\n"
     ]
    }
   ],
   "source": [
    "print ((x==2)|(x==1))"
   ]
  },
  {
   "cell_type": "code",
   "execution_count": 81,
   "metadata": {},
   "outputs": [
    {
     "name": "stdout",
     "output_type": "stream",
     "text": [
      "[2 1]\n"
     ]
    }
   ],
   "source": [
    "print (x[(x==2)|(x==1)])"
   ]
  },
  {
   "cell_type": "code",
   "execution_count": 82,
   "metadata": {},
   "outputs": [
    {
     "name": "stdout",
     "output_type": "stream",
     "text": [
      "[3 0 3 0 3 0]\n"
     ]
    }
   ],
   "source": [
    "x[(x==2)|(x==1)] = 0\n",
    "print (x)"
   ]
  },
  {
   "cell_type": "markdown",
   "metadata": {},
   "source": [
    "花式索引：使用整型数组作为索引。"
   ]
  },
  {
   "cell_type": "code",
   "execution_count": 85,
   "metadata": {},
   "outputs": [
    {
     "name": "stdout",
     "output_type": "stream",
     "text": [
      "ndarray的花式索引:使用整型数组作为索引\n",
      "[1 2 3]\n",
      "[6 5 4]\n",
      "[[1 2]\n",
      " [3 4]]\n"
     ]
    }
   ],
   "source": [
    "print ('ndarray的花式索引:使用整型数组作为索引')\n",
    "x = numpy.array([1,2,3,4,5,6])\n",
    "print (x[[0,1,2]]) \n",
    "print (x[[-1,-2,-3]]) "
   ]
  },
  {
   "cell_type": "code",
   "execution_count": 87,
   "metadata": {},
   "outputs": [
    {
     "name": "stdout",
     "output_type": "stream",
     "text": [
      "[[1 2]\n",
      " [3 4]]\n"
     ]
    }
   ],
   "source": [
    "x = numpy.array([[1,2],[3,4],[5,6]])\n",
    "print (x[[0,1]])"
   ]
  },
  {
   "cell_type": "code",
   "execution_count": 88,
   "metadata": {},
   "outputs": [
    {
     "name": "stdout",
     "output_type": "stream",
     "text": [
      "[1 4]\n"
     ]
    }
   ],
   "source": [
    "x = numpy.array([[1,2],[3,4],[5,6]])\n",
    "print (x[[0,1],[0,1]])"
   ]
  },
  {
   "cell_type": "code",
   "execution_count": 89,
   "metadata": {},
   "outputs": [
    {
     "name": "stdout",
     "output_type": "stream",
     "text": [
      "[[1 2]\n",
      " [3 4]]\n"
     ]
    }
   ],
   "source": [
    "x = numpy.array([[1,2],[3,4],[5,6]])\n",
    "print (x[[0,1]][:,[0,1]])"
   ]
  },
  {
   "cell_type": "code",
   "execution_count": 91,
   "metadata": {},
   "outputs": [
    {
     "name": "stdout",
     "output_type": "stream",
     "text": [
      "[[1 2]\n",
      " [3 4]]\n",
      "[[0 2]\n",
      " [3 0]\n",
      " [5 6]]\n"
     ]
    }
   ],
   "source": [
    "x = numpy.array([[1,2],[3,4],[5,6]])\n",
    "# 使用numpy.ix_()函数增强可读性\n",
    "print (x[numpy.ix_([0,1],[0,1])]) #同上 打印01行的01列 [[1,2],[3,4]]\n",
    "x[[0,1],[0,1]] = [0,0]\n",
    "print (x) # [[0,2],[3,0],[5,6]]"
   ]
  },
  {
   "cell_type": "markdown",
   "metadata": {},
   "source": [
    "6.ndarray数组的转置和轴对换"
   ]
  },
  {
   "cell_type": "code",
   "execution_count": 93,
   "metadata": {},
   "outputs": [
    {
     "name": "stdout",
     "output_type": "stream",
     "text": [
      "ndarray数组的转置和轴对换\n",
      "[0 1 2 3 4 5 6 7 8]\n",
      "[[0 1 2]\n",
      " [3 4 5]\n",
      " [6 7 8]]\n",
      "[[0 3 6]\n",
      " [1 4 7]\n",
      " [2 5 8]]\n",
      "[[  5  14  23]\n",
      " [ 14  50  86]\n",
      " [ 23  86 149]]\n"
     ]
    }
   ],
   "source": [
    "print ('ndarray数组的转置和轴对换')\n",
    "k = numpy.arange(9) #[0,1,....8]\n",
    "m = k.reshape((3,3)) # 改变数组的shape复制生成2维的，每个维度长度为3的数组\n",
    "print (k) \n",
    "print (m) \n",
    "# 转置(矩阵)数组：T属性 : mT[x][y] = m[y][x]\n",
    "print (m.T) \n",
    "# 计算矩阵的内积 xTx\n",
    "print (numpy.dot(m,m.T)) # numpy.dot点乘"
   ]
  },
  {
   "cell_type": "code",
   "execution_count": 94,
   "metadata": {},
   "outputs": [
    {
     "name": "stdout",
     "output_type": "stream",
     "text": [
      "[[[0 1]\n",
      "  [2 3]]\n",
      "\n",
      " [[4 5]\n",
      "  [6 7]]]\n",
      "4\n"
     ]
    }
   ],
   "source": [
    "# 高维数组的轴对象\n",
    "k = numpy.arange(8).reshape(2,2,2)\n",
    "print (k) # [[[0 1],[2 3]],[[4 5],[6 7]]]\n",
    "print (k[1][0][0])"
   ]
  },
  {
   "cell_type": "code",
   "execution_count": 95,
   "metadata": {},
   "outputs": [
    {
     "name": "stdout",
     "output_type": "stream",
     "text": [
      "[[[0 1]\n",
      "  [4 5]]\n",
      "\n",
      " [[2 3]\n",
      "  [6 7]]]\n",
      "4\n"
     ]
    }
   ],
   "source": [
    "# 轴变换 transpose 参数:由轴编号组成的元组\n",
    "m = k.transpose((1,0,2)) # m[y][x][z] = k[x][y][z]\n",
    "print (m) # [[[0 1],[4 5]],[[2 3],[6 7]]]\n",
    "print (m[0][1][0])"
   ]
  },
  {
   "cell_type": "code",
   "execution_count": 96,
   "metadata": {},
   "outputs": [
    {
     "name": "stdout",
     "output_type": "stream",
     "text": [
      "[[[0 1]\n",
      "  [4 5]]\n",
      "\n",
      " [[2 3]\n",
      "  [6 7]]]\n",
      "4\n"
     ]
    }
   ],
   "source": [
    "# 轴交换 swapaxes (axes：轴)，参数:一对轴编号\n",
    "m = k.swapaxes(0,1) # 将第一个轴和第二个轴交换 m[y][x][z] = k[x][y][z]\n",
    "print (m) # [[[0 1],[4 5]],[[2 3],[6 7]]]\n",
    "print (m[0][1][0])"
   ]
  },
  {
   "cell_type": "code",
   "execution_count": 98,
   "metadata": {},
   "outputs": [
    {
     "name": "stdout",
     "output_type": "stream",
     "text": [
      "[[0 1 2]\n",
      " [3 4 5]\n",
      " [6 7 8]]\n",
      "[[0 3 6]\n",
      " [1 4 7]\n",
      " [2 5 8]]\n",
      "[[0 3 6]\n",
      " [1 4 7]\n",
      " [2 5 8]]\n"
     ]
    }
   ],
   "source": [
    "# 使用轴交换进行数组矩阵转置\n",
    "m = numpy.arange(9).reshape((3,3))\n",
    "print (m) # [[0 1 2] [3 4 5] [6 7 8]]\n",
    "print (m.swapaxes(1,0)) # [[0 3 6] [1 4 7] [2 5 8]]\n",
    "print (m.T)"
   ]
  },
  {
   "cell_type": "markdown",
   "metadata": {},
   "source": [
    "7.ndarray通用函数"
   ]
  },
  {
   "cell_type": "markdown",
   "metadata": {},
   "source": [
    "通用函数（ufunc）是一种对ndarray中的数据执行元素级运算的函数。\n",
    "\n",
    "一元ufunc："
   ]
  },
  {
   "cell_type": "code",
   "execution_count": 100,
   "metadata": {},
   "outputs": [
    {
     "name": "stdout",
     "output_type": "stream",
     "text": [
      "一元ufunc示例\n",
      "[0 1 2 3 4 5]\n",
      "[ 0  1  4  9 16 25]\n",
      "[0.5 0.6 0.7 0.8]\n",
      "[1. 1. 1. 1.]\n"
     ]
    }
   ],
   "source": [
    "print ('一元ufunc示例')\n",
    "x = numpy.arange(6)\n",
    "print (x) # [0 1 2 3 4 5]\n",
    "print (numpy.square(x)) # [ 0  1  4  9 16 25]\n",
    "x = numpy.array([1.5,1.6,1.7,1.8])\n",
    "y,z = numpy.modf(x)\n",
    "print (y) # [ 0.5  0.6  0.7  0.8]\n",
    "print (z) # [ 1.  1.  1.  1.]"
   ]
  },
  {
   "cell_type": "code",
   "execution_count": 101,
   "metadata": {},
   "outputs": [
    {
     "name": "stdout",
     "output_type": "stream",
     "text": [
      "二元ufunc代码示例\n",
      "[[2 4]\n",
      " [6 8]]\n",
      "[[1 3]\n",
      " [5 7]]\n"
     ]
    }
   ],
   "source": [
    "print ('二元ufunc代码示例')\n",
    "x = numpy.array([[1,4],[6,7]])\n",
    "y = numpy.array([[2,3],[5,8]])\n",
    "print (numpy.maximum(x,y)) # [[2,4],[6,8]]\n",
    "print (numpy.minimum(x,y)) # [[1,3],[5,7]]"
   ]
  },
  {
   "cell_type": "markdown",
   "metadata": {},
   "source": [
    "8.NumPy的where函数使用"
   ]
  },
  {
   "cell_type": "code",
   "execution_count": null,
   "metadata": {},
   "outputs": [],
   "source": []
  }
 ],
 "metadata": {
  "kernelspec": {
   "display_name": "Python 3",
   "language": "python",
   "name": "python3"
  },
  "language_info": {
   "codemirror_mode": {
    "name": "ipython",
    "version": 3
   },
   "file_extension": ".py",
   "mimetype": "text/x-python",
   "name": "python",
   "nbconvert_exporter": "python",
   "pygments_lexer": "ipython3",
   "version": "3.6.4"
  },
  "toc": {
   "base_numbering": 1,
   "nav_menu": {},
   "number_sections": true,
   "sideBar": true,
   "skip_h1_title": false,
   "title_cell": "Table of Contents",
   "title_sidebar": "Contents",
   "toc_cell": false,
   "toc_position": {},
   "toc_section_display": true,
   "toc_window_display": false
  }
 },
 "nbformat": 4,
 "nbformat_minor": 2
}
